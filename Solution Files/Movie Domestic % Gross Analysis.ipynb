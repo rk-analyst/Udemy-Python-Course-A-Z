{
 "cells": [
  {
   "cell_type": "markdown",
   "id": "f13318e3",
   "metadata": {},
   "source": [
    "### Movie Domestic % Gross Analysis"
   ]
  },
  {
   "cell_type": "code",
   "execution_count": 1,
   "id": "67246a72",
   "metadata": {},
   "outputs": [],
   "source": [
    "import pandas as pd\n",
    "import matplotlib.pyplot as plt\n",
    "import seaborn as sns\n",
    "%matplotlib inline\n",
    "import warnings\n",
    "warnings.filterwarnings('ignore')"
   ]
  },
  {
   "cell_type": "code",
   "execution_count": 2,
   "id": "86a12a03",
   "metadata": {},
   "outputs": [
    {
     "data": {
      "text/plain": [
       "'/Users/rheakapoor/Desktop/Personal/Udemy Python Course A-Z'"
      ]
     },
     "execution_count": 2,
     "metadata": {},
     "output_type": "execute_result"
    }
   ],
   "source": [
    "import os\n",
    "os.getcwd()"
   ]
  },
  {
   "cell_type": "code",
   "execution_count": 6,
   "id": "229de443",
   "metadata": {},
   "outputs": [],
   "source": [
    "os.chdir('/Users/rheakapoor/Desktop/Personal/Udemy Python Course A-Z/Datasets')"
   ]
  },
  {
   "cell_type": "code",
   "execution_count": 8,
   "id": "e8b99e39",
   "metadata": {},
   "outputs": [],
   "source": [
    "movies = pd.read_csv('P4-Section6-Homework-Dataset.csv', encoding = 'latin1')"
   ]
  },
  {
   "cell_type": "code",
   "execution_count": 9,
   "id": "1b4fd248",
   "metadata": {},
   "outputs": [
    {
     "data": {
      "text/html": [
       "<div>\n",
       "<style scoped>\n",
       "    .dataframe tbody tr th:only-of-type {\n",
       "        vertical-align: middle;\n",
       "    }\n",
       "\n",
       "    .dataframe tbody tr th {\n",
       "        vertical-align: top;\n",
       "    }\n",
       "\n",
       "    .dataframe thead th {\n",
       "        text-align: right;\n",
       "    }\n",
       "</style>\n",
       "<table border=\"1\" class=\"dataframe\">\n",
       "  <thead>\n",
       "    <tr style=\"text-align: right;\">\n",
       "      <th></th>\n",
       "      <th>Day of Week</th>\n",
       "      <th>Director</th>\n",
       "      <th>Genre</th>\n",
       "      <th>Movie Title</th>\n",
       "      <th>Release Date</th>\n",
       "      <th>Studio</th>\n",
       "      <th>Adjusted Gross ($mill)</th>\n",
       "      <th>Budget ($mill)</th>\n",
       "      <th>Gross ($mill)</th>\n",
       "      <th>IMDb Rating</th>\n",
       "      <th>MovieLens Rating</th>\n",
       "      <th>Overseas ($mill)</th>\n",
       "      <th>Overseas%</th>\n",
       "      <th>Profit ($mill)</th>\n",
       "      <th>Profit%</th>\n",
       "      <th>Runtime (min)</th>\n",
       "      <th>US ($mill)</th>\n",
       "      <th>Gross % US</th>\n",
       "    </tr>\n",
       "  </thead>\n",
       "  <tbody>\n",
       "    <tr>\n",
       "      <th>0</th>\n",
       "      <td>Friday</td>\n",
       "      <td>Brad Bird</td>\n",
       "      <td>action</td>\n",
       "      <td>Tomorrowland</td>\n",
       "      <td>22/05/2015</td>\n",
       "      <td>Buena Vista Studios</td>\n",
       "      <td>202.1</td>\n",
       "      <td>170.0</td>\n",
       "      <td>202.1</td>\n",
       "      <td>6.7</td>\n",
       "      <td>3.26</td>\n",
       "      <td>111.9</td>\n",
       "      <td>55.4</td>\n",
       "      <td>32.1</td>\n",
       "      <td>18.9</td>\n",
       "      <td>130</td>\n",
       "      <td>90.2</td>\n",
       "      <td>44.6</td>\n",
       "    </tr>\n",
       "    <tr>\n",
       "      <th>1</th>\n",
       "      <td>Friday</td>\n",
       "      <td>Scott Waugh</td>\n",
       "      <td>action</td>\n",
       "      <td>Need for Speed</td>\n",
       "      <td>14/03/2014</td>\n",
       "      <td>Buena Vista Studios</td>\n",
       "      <td>204.2</td>\n",
       "      <td>66.0</td>\n",
       "      <td>203.3</td>\n",
       "      <td>6.6</td>\n",
       "      <td>2.97</td>\n",
       "      <td>159.7</td>\n",
       "      <td>78.6</td>\n",
       "      <td>137.3</td>\n",
       "      <td>208.0</td>\n",
       "      <td>132</td>\n",
       "      <td>43.6</td>\n",
       "      <td>21.4</td>\n",
       "    </tr>\n",
       "    <tr>\n",
       "      <th>2</th>\n",
       "      <td>Friday</td>\n",
       "      <td>Patrick Hughes</td>\n",
       "      <td>action</td>\n",
       "      <td>The Expendables 3</td>\n",
       "      <td>15/08/2014</td>\n",
       "      <td>Lionsgate</td>\n",
       "      <td>207.1</td>\n",
       "      <td>100.0</td>\n",
       "      <td>206.2</td>\n",
       "      <td>6.1</td>\n",
       "      <td>2.93</td>\n",
       "      <td>166.9</td>\n",
       "      <td>80.9</td>\n",
       "      <td>106.2</td>\n",
       "      <td>106.2</td>\n",
       "      <td>126</td>\n",
       "      <td>39.3</td>\n",
       "      <td>19.1</td>\n",
       "    </tr>\n",
       "    <tr>\n",
       "      <th>3</th>\n",
       "      <td>Friday</td>\n",
       "      <td>Phil Lord, Chris Miller</td>\n",
       "      <td>comedy</td>\n",
       "      <td>21 Jump Street</td>\n",
       "      <td>16/03/2012</td>\n",
       "      <td>Sony</td>\n",
       "      <td>208.8</td>\n",
       "      <td>42.0</td>\n",
       "      <td>201.6</td>\n",
       "      <td>7.2</td>\n",
       "      <td>3.62</td>\n",
       "      <td>63.1</td>\n",
       "      <td>31.3</td>\n",
       "      <td>159.6</td>\n",
       "      <td>380.0</td>\n",
       "      <td>109</td>\n",
       "      <td>138.4</td>\n",
       "      <td>68.7</td>\n",
       "    </tr>\n",
       "    <tr>\n",
       "      <th>4</th>\n",
       "      <td>Friday</td>\n",
       "      <td>Roland Emmerich</td>\n",
       "      <td>action</td>\n",
       "      <td>White House Down</td>\n",
       "      <td>28/06/2013</td>\n",
       "      <td>Sony</td>\n",
       "      <td>209.7</td>\n",
       "      <td>150.0</td>\n",
       "      <td>205.4</td>\n",
       "      <td>8.0</td>\n",
       "      <td>3.65</td>\n",
       "      <td>132.3</td>\n",
       "      <td>64.4</td>\n",
       "      <td>55.4</td>\n",
       "      <td>36.9</td>\n",
       "      <td>131</td>\n",
       "      <td>73.1</td>\n",
       "      <td>35.6</td>\n",
       "    </tr>\n",
       "  </tbody>\n",
       "</table>\n",
       "</div>"
      ],
      "text/plain": [
       "  Day of Week                 Director   Genre        Movie Title  \\\n",
       "0      Friday                Brad Bird  action       Tomorrowland   \n",
       "1      Friday              Scott Waugh  action     Need for Speed   \n",
       "2      Friday           Patrick Hughes  action  The Expendables 3   \n",
       "3      Friday  Phil Lord, Chris Miller  comedy     21 Jump Street   \n",
       "4      Friday          Roland Emmerich  action   White House Down   \n",
       "\n",
       "  Release Date               Studio Adjusted Gross ($mill)  Budget ($mill)  \\\n",
       "0   22/05/2015  Buena Vista Studios                  202.1           170.0   \n",
       "1   14/03/2014  Buena Vista Studios                  204.2            66.0   \n",
       "2   15/08/2014            Lionsgate                  207.1           100.0   \n",
       "3   16/03/2012                 Sony                  208.8            42.0   \n",
       "4   28/06/2013                 Sony                  209.7           150.0   \n",
       "\n",
       "  Gross ($mill)  IMDb Rating  MovieLens Rating Overseas ($mill)  Overseas%  \\\n",
       "0         202.1          6.7              3.26            111.9       55.4   \n",
       "1         203.3          6.6              2.97            159.7       78.6   \n",
       "2         206.2          6.1              2.93            166.9       80.9   \n",
       "3         201.6          7.2              3.62             63.1       31.3   \n",
       "4         205.4          8.0              3.65            132.3       64.4   \n",
       "\n",
       "  Profit ($mill)  Profit%  Runtime (min)  US ($mill)  Gross % US  \n",
       "0           32.1     18.9            130        90.2        44.6  \n",
       "1          137.3    208.0            132        43.6        21.4  \n",
       "2          106.2    106.2            126        39.3        19.1  \n",
       "3          159.6    380.0            109       138.4        68.7  \n",
       "4           55.4     36.9            131        73.1        35.6  "
      ]
     },
     "execution_count": 9,
     "metadata": {},
     "output_type": "execute_result"
    }
   ],
   "source": [
    "movies.head()"
   ]
  },
  {
   "cell_type": "code",
   "execution_count": 10,
   "id": "92ae5a7c",
   "metadata": {},
   "outputs": [
    {
     "data": {
      "text/html": [
       "<div>\n",
       "<style scoped>\n",
       "    .dataframe tbody tr th:only-of-type {\n",
       "        vertical-align: middle;\n",
       "    }\n",
       "\n",
       "    .dataframe tbody tr th {\n",
       "        vertical-align: top;\n",
       "    }\n",
       "\n",
       "    .dataframe thead th {\n",
       "        text-align: right;\n",
       "    }\n",
       "</style>\n",
       "<table border=\"1\" class=\"dataframe\">\n",
       "  <thead>\n",
       "    <tr style=\"text-align: right;\">\n",
       "      <th></th>\n",
       "      <th>Budget ($mill)</th>\n",
       "      <th>IMDb Rating</th>\n",
       "      <th>MovieLens Rating</th>\n",
       "      <th>Overseas%</th>\n",
       "      <th>Profit%</th>\n",
       "      <th>Runtime (min)</th>\n",
       "      <th>US ($mill)</th>\n",
       "      <th>Gross % US</th>\n",
       "    </tr>\n",
       "  </thead>\n",
       "  <tbody>\n",
       "    <tr>\n",
       "      <th>count</th>\n",
       "      <td>608.000000</td>\n",
       "      <td>608.000000</td>\n",
       "      <td>608.000000</td>\n",
       "      <td>608.000000</td>\n",
       "      <td>608.000000</td>\n",
       "      <td>608.000000</td>\n",
       "      <td>608.000000</td>\n",
       "      <td>608.000000</td>\n",
       "    </tr>\n",
       "    <tr>\n",
       "      <th>mean</th>\n",
       "      <td>92.467928</td>\n",
       "      <td>6.923849</td>\n",
       "      <td>3.340378</td>\n",
       "      <td>57.698849</td>\n",
       "      <td>719.278783</td>\n",
       "      <td>117.781250</td>\n",
       "      <td>167.135197</td>\n",
       "      <td>42.301151</td>\n",
       "    </tr>\n",
       "    <tr>\n",
       "      <th>std</th>\n",
       "      <td>59.421407</td>\n",
       "      <td>0.925890</td>\n",
       "      <td>0.454071</td>\n",
       "      <td>12.334237</td>\n",
       "      <td>1942.807248</td>\n",
       "      <td>23.179122</td>\n",
       "      <td>92.465903</td>\n",
       "      <td>12.334237</td>\n",
       "    </tr>\n",
       "    <tr>\n",
       "      <th>min</th>\n",
       "      <td>0.600000</td>\n",
       "      <td>3.600000</td>\n",
       "      <td>1.490000</td>\n",
       "      <td>17.200000</td>\n",
       "      <td>7.700000</td>\n",
       "      <td>30.000000</td>\n",
       "      <td>0.000000</td>\n",
       "      <td>0.000000</td>\n",
       "    </tr>\n",
       "    <tr>\n",
       "      <th>25%</th>\n",
       "      <td>45.000000</td>\n",
       "      <td>6.375000</td>\n",
       "      <td>3.037500</td>\n",
       "      <td>49.900000</td>\n",
       "      <td>201.850000</td>\n",
       "      <td>100.000000</td>\n",
       "      <td>106.950000</td>\n",
       "      <td>33.700000</td>\n",
       "    </tr>\n",
       "    <tr>\n",
       "      <th>50%</th>\n",
       "      <td>80.000000</td>\n",
       "      <td>6.900000</td>\n",
       "      <td>3.365000</td>\n",
       "      <td>58.200000</td>\n",
       "      <td>338.550000</td>\n",
       "      <td>116.000000</td>\n",
       "      <td>141.700000</td>\n",
       "      <td>41.800000</td>\n",
       "    </tr>\n",
       "    <tr>\n",
       "      <th>75%</th>\n",
       "      <td>130.000000</td>\n",
       "      <td>7.600000</td>\n",
       "      <td>3.672500</td>\n",
       "      <td>66.300000</td>\n",
       "      <td>650.100000</td>\n",
       "      <td>130.250000</td>\n",
       "      <td>202.100000</td>\n",
       "      <td>50.100000</td>\n",
       "    </tr>\n",
       "    <tr>\n",
       "      <th>max</th>\n",
       "      <td>300.000000</td>\n",
       "      <td>9.200000</td>\n",
       "      <td>4.500000</td>\n",
       "      <td>100.000000</td>\n",
       "      <td>41333.300000</td>\n",
       "      <td>238.000000</td>\n",
       "      <td>760.500000</td>\n",
       "      <td>82.800000</td>\n",
       "    </tr>\n",
       "  </tbody>\n",
       "</table>\n",
       "</div>"
      ],
      "text/plain": [
       "       Budget ($mill)  IMDb Rating  MovieLens Rating   Overseas%  \\\n",
       "count      608.000000   608.000000        608.000000  608.000000   \n",
       "mean        92.467928     6.923849          3.340378   57.698849   \n",
       "std         59.421407     0.925890          0.454071   12.334237   \n",
       "min          0.600000     3.600000          1.490000   17.200000   \n",
       "25%         45.000000     6.375000          3.037500   49.900000   \n",
       "50%         80.000000     6.900000          3.365000   58.200000   \n",
       "75%        130.000000     7.600000          3.672500   66.300000   \n",
       "max        300.000000     9.200000          4.500000  100.000000   \n",
       "\n",
       "            Profit%  Runtime (min)  US ($mill)  Gross % US  \n",
       "count    608.000000     608.000000  608.000000  608.000000  \n",
       "mean     719.278783     117.781250  167.135197   42.301151  \n",
       "std     1942.807248      23.179122   92.465903   12.334237  \n",
       "min        7.700000      30.000000    0.000000    0.000000  \n",
       "25%      201.850000     100.000000  106.950000   33.700000  \n",
       "50%      338.550000     116.000000  141.700000   41.800000  \n",
       "75%      650.100000     130.250000  202.100000   50.100000  \n",
       "max    41333.300000     238.000000  760.500000   82.800000  "
      ]
     },
     "execution_count": 10,
     "metadata": {},
     "output_type": "execute_result"
    }
   ],
   "source": [
    "movies.describe()"
   ]
  },
  {
   "cell_type": "code",
   "execution_count": 11,
   "id": "eb5914a6",
   "metadata": {},
   "outputs": [
    {
     "name": "stdout",
     "output_type": "stream",
     "text": [
      "<class 'pandas.core.frame.DataFrame'>\n",
      "RangeIndex: 608 entries, 0 to 607\n",
      "Data columns (total 18 columns):\n",
      " #   Column                  Non-Null Count  Dtype  \n",
      "---  ------                  --------------  -----  \n",
      " 0   Day of Week             608 non-null    object \n",
      " 1   Director                608 non-null    object \n",
      " 2   Genre                   608 non-null    object \n",
      " 3   Movie Title             608 non-null    object \n",
      " 4   Release Date            608 non-null    object \n",
      " 5   Studio                  608 non-null    object \n",
      " 6   Adjusted Gross ($mill)  608 non-null    object \n",
      " 7   Budget ($mill)          608 non-null    float64\n",
      " 8   Gross ($mill)           608 non-null    object \n",
      " 9   IMDb Rating             608 non-null    float64\n",
      " 10  MovieLens Rating        608 non-null    float64\n",
      " 11  Overseas ($mill)        608 non-null    object \n",
      " 12  Overseas%               608 non-null    float64\n",
      " 13  Profit ($mill)          608 non-null    object \n",
      " 14  Profit%                 608 non-null    float64\n",
      " 15  Runtime (min)           608 non-null    int64  \n",
      " 16  US ($mill)              608 non-null    float64\n",
      " 17  Gross % US              608 non-null    float64\n",
      "dtypes: float64(7), int64(1), object(10)\n",
      "memory usage: 85.6+ KB\n"
     ]
    }
   ],
   "source": [
    "movies.info()"
   ]
  },
  {
   "cell_type": "markdown",
   "id": "5822162a",
   "metadata": {},
   "source": [
    "---"
   ]
  },
  {
   "cell_type": "code",
   "execution_count": 12,
   "id": "f87205ad",
   "metadata": {},
   "outputs": [],
   "source": [
    "# Visualizations"
   ]
  },
  {
   "cell_type": "code",
   "execution_count": 14,
   "id": "c0694e7d",
   "metadata": {},
   "outputs": [
    {
     "data": {
      "image/png": "[encoded data removed]",
      "text/plain": [
       "<Figure size 700x700 with 1 Axes>"
      ]
     },
     "metadata": {},
     "output_type": "display_data"
    }
   ],
   "source": [
    "vis1 = sns.factorplot(data = movies, x= 'Day of Week', kind = 'count', size = 7 )"
   ]
  },
  {
   "cell_type": "code",
   "execution_count": 17,
   "id": "3b8cbaad",
   "metadata": {},
   "outputs": [
    {
     "data": {
      "text/plain": [
       "array(['Buena Vista Studios', 'Lionsgate', 'Sony', 'Universal',\n",
       "       'Paramount Pictures', 'WB', 'Weinstein Company',\n",
       "       'UA Entertainment', 'WB/New Line', 'New Line Cinema', 'Fox',\n",
       "       'TriStar', 'Relativity Media', 'Screen Gems', 'StudioCanal',\n",
       "       'Fox Searchlight Pictures', 'MiraMax', 'Path_ Distribution',\n",
       "       'DreamWorks', 'Lionsgate Films', 'Revolution Studios',\n",
       "       'Dimension Films', 'USA', 'Lionsgate/Summit',\n",
       "       'Sony Picture Classics', 'Pacific Data/DreamWorks', 'Disney',\n",
       "       'Art House Studios', 'Colombia Pictures', 'Gramercy Pictures',\n",
       "       'Summit Entertainment', 'Vestron Pictures', 'MGM', 'Orion', 'IFC',\n",
       "       'New Market Films'], dtype=object)"
      ]
     },
     "execution_count": 17,
     "metadata": {},
     "output_type": "execute_result"
    }
   ],
   "source": [
    "#Finding unique list of studios\n",
    "movies.Studio.unique()"
   ]
  },
  {
   "cell_type": "code",
   "execution_count": 18,
   "id": "5408c01c",
   "metadata": {},
   "outputs": [
    {
     "data": {
      "text/plain": [
       "36"
      ]
     },
     "execution_count": 18,
     "metadata": {},
     "output_type": "execute_result"
    }
   ],
   "source": [
    "len(movies.Studio.unique())"
   ]
  },
  {
   "cell_type": "code",
   "execution_count": 19,
   "id": "49cc9706",
   "metadata": {},
   "outputs": [
    {
     "data": {
      "text/plain": [
       "array(['action', 'comedy', 'adventure', 'horror', 'animation',\n",
       "       'biography', 'drama', 'musical', 'sci-fi', 'crime', 'romance',\n",
       "       'fantasy', 'mystery', 'thriller', 'documentary'], dtype=object)"
      ]
     },
     "execution_count": 19,
     "metadata": {},
     "output_type": "execute_result"
    }
   ],
   "source": [
    "#Finding unique list of genres\n",
    "movies.Genre.unique()"
   ]
  },
  {
   "cell_type": "code",
   "execution_count": 20,
   "id": "0d08f747",
   "metadata": {},
   "outputs": [
    {
     "data": {
      "text/plain": [
       "15"
      ]
     },
     "execution_count": 20,
     "metadata": {},
     "output_type": "execute_result"
    }
   ],
   "source": [
    "len(movies.Genre.unique())"
   ]
  },
  {
   "cell_type": "code",
   "execution_count": 27,
   "id": "6a923137",
   "metadata": {},
   "outputs": [],
   "source": [
    "movies2 = movies[(movies.Studio == 'Fox')|(movies.Studio == 'WB') ]"
   ]
  },
  {
   "cell_type": "code",
   "execution_count": 29,
   "id": "891bb090",
   "metadata": {},
   "outputs": [
    {
     "data": {
      "text/plain": [
       "array(['WB', 'Fox'], dtype=object)"
      ]
     },
     "execution_count": 29,
     "metadata": {},
     "output_type": "execute_result"
    }
   ],
   "source": [
    "movies2.Studio.unique()"
   ]
  },
  {
   "cell_type": "code",
   "execution_count": 34,
   "id": "1366cf7b",
   "metadata": {},
   "outputs": [],
   "source": [
    "# Studios we need for purpose of our visualization : Buena Vista, Fox, Paramount Pictures, Sony, Universal, WB.\n",
    "# Genres we need for purpose of our visualization : Action, adventure, comedy, animation,drama\n",
    "# Creating filters for these studios\n",
    "studio_filters = ['Buena Vista Studios', 'Fox', 'Paramount Pictures', 'Sony', 'Universal', 'WB']\n",
    "genre_filters = ['action', 'adventure', 'comedy', 'drama', 'animation']\n",
    "movies2 = movies[movies.Genre.isin(genre_filters)]\n",
    "movies3 = movies2[movies2.Studio.isin(studio_filters)]\n"
   ]
  },
  {
   "cell_type": "code",
   "execution_count": 32,
   "id": "5310db7f",
   "metadata": {},
   "outputs": [
    {
     "data": {
      "text/html": [
       "<div>\n",
       "<style scoped>\n",
       "    .dataframe tbody tr th:only-of-type {\n",
       "        vertical-align: middle;\n",
       "    }\n",
       "\n",
       "    .dataframe tbody tr th {\n",
       "        vertical-align: top;\n",
       "    }\n",
       "\n",
       "    .dataframe thead th {\n",
       "        text-align: right;\n",
       "    }\n",
       "</style>\n",
       "<table border=\"1\" class=\"dataframe\">\n",
       "  <thead>\n",
       "    <tr style=\"text-align: right;\">\n",
       "      <th></th>\n",
       "      <th>Day of Week</th>\n",
       "      <th>Director</th>\n",
       "      <th>Genre</th>\n",
       "      <th>Movie Title</th>\n",
       "      <th>Release Date</th>\n",
       "      <th>Studio</th>\n",
       "      <th>Adjusted Gross ($mill)</th>\n",
       "      <th>Budget ($mill)</th>\n",
       "      <th>Gross ($mill)</th>\n",
       "      <th>IMDb Rating</th>\n",
       "      <th>MovieLens Rating</th>\n",
       "      <th>Overseas ($mill)</th>\n",
       "      <th>Overseas%</th>\n",
       "      <th>Profit ($mill)</th>\n",
       "      <th>Profit%</th>\n",
       "      <th>Runtime (min)</th>\n",
       "      <th>US ($mill)</th>\n",
       "      <th>Gross % US</th>\n",
       "    </tr>\n",
       "  </thead>\n",
       "  <tbody>\n",
       "    <tr>\n",
       "      <th>0</th>\n",
       "      <td>Friday</td>\n",
       "      <td>Brad Bird</td>\n",
       "      <td>action</td>\n",
       "      <td>Tomorrowland</td>\n",
       "      <td>22/05/2015</td>\n",
       "      <td>Buena Vista Studios</td>\n",
       "      <td>202.1</td>\n",
       "      <td>170.0</td>\n",
       "      <td>202.1</td>\n",
       "      <td>6.7</td>\n",
       "      <td>3.26</td>\n",
       "      <td>111.9</td>\n",
       "      <td>55.4</td>\n",
       "      <td>32.1</td>\n",
       "      <td>18.9</td>\n",
       "      <td>130</td>\n",
       "      <td>90.2</td>\n",
       "      <td>44.6</td>\n",
       "    </tr>\n",
       "    <tr>\n",
       "      <th>1</th>\n",
       "      <td>Friday</td>\n",
       "      <td>Scott Waugh</td>\n",
       "      <td>action</td>\n",
       "      <td>Need for Speed</td>\n",
       "      <td>14/03/2014</td>\n",
       "      <td>Buena Vista Studios</td>\n",
       "      <td>204.2</td>\n",
       "      <td>66.0</td>\n",
       "      <td>203.3</td>\n",
       "      <td>6.6</td>\n",
       "      <td>2.97</td>\n",
       "      <td>159.7</td>\n",
       "      <td>78.6</td>\n",
       "      <td>137.3</td>\n",
       "      <td>208.0</td>\n",
       "      <td>132</td>\n",
       "      <td>43.6</td>\n",
       "      <td>21.4</td>\n",
       "    </tr>\n",
       "    <tr>\n",
       "      <th>3</th>\n",
       "      <td>Friday</td>\n",
       "      <td>Phil Lord, Chris Miller</td>\n",
       "      <td>comedy</td>\n",
       "      <td>21 Jump Street</td>\n",
       "      <td>16/03/2012</td>\n",
       "      <td>Sony</td>\n",
       "      <td>208.8</td>\n",
       "      <td>42.0</td>\n",
       "      <td>201.6</td>\n",
       "      <td>7.2</td>\n",
       "      <td>3.62</td>\n",
       "      <td>63.1</td>\n",
       "      <td>31.3</td>\n",
       "      <td>159.6</td>\n",
       "      <td>380.0</td>\n",
       "      <td>109</td>\n",
       "      <td>138.4</td>\n",
       "      <td>68.7</td>\n",
       "    </tr>\n",
       "    <tr>\n",
       "      <th>4</th>\n",
       "      <td>Friday</td>\n",
       "      <td>Roland Emmerich</td>\n",
       "      <td>action</td>\n",
       "      <td>White House Down</td>\n",
       "      <td>28/06/2013</td>\n",
       "      <td>Sony</td>\n",
       "      <td>209.7</td>\n",
       "      <td>150.0</td>\n",
       "      <td>205.4</td>\n",
       "      <td>8.0</td>\n",
       "      <td>3.65</td>\n",
       "      <td>132.3</td>\n",
       "      <td>64.4</td>\n",
       "      <td>55.4</td>\n",
       "      <td>36.9</td>\n",
       "      <td>131</td>\n",
       "      <td>73.1</td>\n",
       "      <td>35.6</td>\n",
       "    </tr>\n",
       "    <tr>\n",
       "      <th>5</th>\n",
       "      <td>Friday</td>\n",
       "      <td>David Ayer</td>\n",
       "      <td>action</td>\n",
       "      <td>Fury</td>\n",
       "      <td>17/10/2014</td>\n",
       "      <td>Sony</td>\n",
       "      <td>212.8</td>\n",
       "      <td>80.0</td>\n",
       "      <td>211.8</td>\n",
       "      <td>5.8</td>\n",
       "      <td>2.85</td>\n",
       "      <td>126</td>\n",
       "      <td>59.5</td>\n",
       "      <td>131.8</td>\n",
       "      <td>164.8</td>\n",
       "      <td>134</td>\n",
       "      <td>85.8</td>\n",
       "      <td>40.5</td>\n",
       "    </tr>\n",
       "    <tr>\n",
       "      <th>...</th>\n",
       "      <td>...</td>\n",
       "      <td>...</td>\n",
       "      <td>...</td>\n",
       "      <td>...</td>\n",
       "      <td>...</td>\n",
       "      <td>...</td>\n",
       "      <td>...</td>\n",
       "      <td>...</td>\n",
       "      <td>...</td>\n",
       "      <td>...</td>\n",
       "      <td>...</td>\n",
       "      <td>...</td>\n",
       "      <td>...</td>\n",
       "      <td>...</td>\n",
       "      <td>...</td>\n",
       "      <td>...</td>\n",
       "      <td>...</td>\n",
       "      <td>...</td>\n",
       "    </tr>\n",
       "    <tr>\n",
       "      <th>602</th>\n",
       "      <td>Tuesday</td>\n",
       "      <td>Richard Fleischer</td>\n",
       "      <td>adventure</td>\n",
       "      <td>Doctor Dolittle</td>\n",
       "      <td>19/12/1967</td>\n",
       "      <td>Fox</td>\n",
       "      <td>2,096.80</td>\n",
       "      <td>70.5</td>\n",
       "      <td>294.5</td>\n",
       "      <td>5.3</td>\n",
       "      <td>3.01</td>\n",
       "      <td>150.3</td>\n",
       "      <td>51.0</td>\n",
       "      <td>224</td>\n",
       "      <td>317.7</td>\n",
       "      <td>152</td>\n",
       "      <td>144.2</td>\n",
       "      <td>49.0</td>\n",
       "    </tr>\n",
       "    <tr>\n",
       "      <th>603</th>\n",
       "      <td>Wednesday</td>\n",
       "      <td>William Friedkin</td>\n",
       "      <td>horror</td>\n",
       "      <td>The Exorcist</td>\n",
       "      <td>26/12/1973</td>\n",
       "      <td>WB</td>\n",
       "      <td>2,363.60</td>\n",
       "      <td>12.0</td>\n",
       "      <td>441.3</td>\n",
       "      <td>6.9</td>\n",
       "      <td>3.39</td>\n",
       "      <td>208.4</td>\n",
       "      <td>47.2</td>\n",
       "      <td>429.3</td>\n",
       "      <td>3577.5</td>\n",
       "      <td>122</td>\n",
       "      <td>232.9</td>\n",
       "      <td>52.8</td>\n",
       "    </tr>\n",
       "    <tr>\n",
       "      <th>604</th>\n",
       "      <td>Wednesday</td>\n",
       "      <td>George Lucas</td>\n",
       "      <td>action</td>\n",
       "      <td>Star Wars</td>\n",
       "      <td>25/05/1977</td>\n",
       "      <td>Fox</td>\n",
       "      <td>3,042.80</td>\n",
       "      <td>11.0</td>\n",
       "      <td>775.4</td>\n",
       "      <td>8.7</td>\n",
       "      <td>4.19</td>\n",
       "      <td>314.4</td>\n",
       "      <td>40.5</td>\n",
       "      <td>764.4</td>\n",
       "      <td>6949.1</td>\n",
       "      <td>121</td>\n",
       "      <td>461.0</td>\n",
       "      <td>59.5</td>\n",
       "    </tr>\n",
       "    <tr>\n",
       "      <th>605</th>\n",
       "      <td>Friday</td>\n",
       "      <td>James Cameron</td>\n",
       "      <td>sci-fi</td>\n",
       "      <td>Avatar</td>\n",
       "      <td>18/12/2009</td>\n",
       "      <td>Fox</td>\n",
       "      <td>3,090.40</td>\n",
       "      <td>237.0</td>\n",
       "      <td>2,788</td>\n",
       "      <td>7.9</td>\n",
       "      <td>3.78</td>\n",
       "      <td>2,027.50</td>\n",
       "      <td>72.7</td>\n",
       "      <td>2,551</td>\n",
       "      <td>1076.4</td>\n",
       "      <td>162</td>\n",
       "      <td>760.5</td>\n",
       "      <td>27.3</td>\n",
       "    </tr>\n",
       "    <tr>\n",
       "      <th>606</th>\n",
       "      <td>Wednesday</td>\n",
       "      <td>James Cameron</td>\n",
       "      <td>drama</td>\n",
       "      <td>Titanic</td>\n",
       "      <td>17/12/1997</td>\n",
       "      <td>Paramount Pictures</td>\n",
       "      <td>3,240.10</td>\n",
       "      <td>200.0</td>\n",
       "      <td>2,186.80</td>\n",
       "      <td>7.7</td>\n",
       "      <td>3.38</td>\n",
       "      <td>1,528.10</td>\n",
       "      <td>69.9</td>\n",
       "      <td>1,986.80</td>\n",
       "      <td>993.4</td>\n",
       "      <td>194</td>\n",
       "      <td>658.7</td>\n",
       "      <td>30.1</td>\n",
       "    </tr>\n",
       "  </tbody>\n",
       "</table>\n",
       "<p>477 rows × 18 columns</p>\n",
       "</div>"
      ],
      "text/plain": [
       "    Day of Week                 Director      Genre       Movie Title  \\\n",
       "0        Friday                Brad Bird     action      Tomorrowland   \n",
       "1        Friday              Scott Waugh     action    Need for Speed   \n",
       "3        Friday  Phil Lord, Chris Miller     comedy    21 Jump Street   \n",
       "4        Friday          Roland Emmerich     action  White House Down   \n",
       "5        Friday               David Ayer     action              Fury   \n",
       "..          ...                      ...        ...               ...   \n",
       "602     Tuesday        Richard Fleischer  adventure   Doctor Dolittle   \n",
       "603   Wednesday         William Friedkin     horror      The Exorcist   \n",
       "604   Wednesday             George Lucas     action         Star Wars   \n",
       "605      Friday            James Cameron     sci-fi            Avatar   \n",
       "606   Wednesday            James Cameron      drama           Titanic   \n",
       "\n",
       "    Release Date               Studio Adjusted Gross ($mill)  Budget ($mill)  \\\n",
       "0     22/05/2015  Buena Vista Studios                  202.1           170.0   \n",
       "1     14/03/2014  Buena Vista Studios                  204.2            66.0   \n",
       "3     16/03/2012                 Sony                  208.8            42.0   \n",
       "4     28/06/2013                 Sony                  209.7           150.0   \n",
       "5     17/10/2014                 Sony                  212.8            80.0   \n",
       "..           ...                  ...                    ...             ...   \n",
       "602   19/12/1967                  Fox               2,096.80            70.5   \n",
       "603   26/12/1973                   WB               2,363.60            12.0   \n",
       "604   25/05/1977                  Fox               3,042.80            11.0   \n",
       "605   18/12/2009                  Fox               3,090.40           237.0   \n",
       "606   17/12/1997   Paramount Pictures               3,240.10           200.0   \n",
       "\n",
       "    Gross ($mill)  IMDb Rating  MovieLens Rating Overseas ($mill)  Overseas%  \\\n",
       "0           202.1          6.7              3.26            111.9       55.4   \n",
       "1           203.3          6.6              2.97            159.7       78.6   \n",
       "3           201.6          7.2              3.62             63.1       31.3   \n",
       "4           205.4          8.0              3.65            132.3       64.4   \n",
       "5           211.8          5.8              2.85              126       59.5   \n",
       "..            ...          ...               ...              ...        ...   \n",
       "602         294.5          5.3              3.01            150.3       51.0   \n",
       "603         441.3          6.9              3.39            208.4       47.2   \n",
       "604         775.4          8.7              4.19            314.4       40.5   \n",
       "605         2,788          7.9              3.78         2,027.50       72.7   \n",
       "606      2,186.80          7.7              3.38         1,528.10       69.9   \n",
       "\n",
       "    Profit ($mill)  Profit%  Runtime (min)  US ($mill)  Gross % US  \n",
       "0             32.1     18.9            130        90.2        44.6  \n",
       "1            137.3    208.0            132        43.6        21.4  \n",
       "3            159.6    380.0            109       138.4        68.7  \n",
       "4             55.4     36.9            131        73.1        35.6  \n",
       "5            131.8    164.8            134        85.8        40.5  \n",
       "..             ...      ...            ...         ...         ...  \n",
       "602            224    317.7            152       144.2        49.0  \n",
       "603          429.3   3577.5            122       232.9        52.8  \n",
       "604          764.4   6949.1            121       461.0        59.5  \n",
       "605          2,551   1076.4            162       760.5        27.3  \n",
       "606       1,986.80    993.4            194       658.7        30.1  \n",
       "\n",
       "[477 rows x 18 columns]"
      ]
     },
     "execution_count": 32,
     "metadata": {},
     "output_type": "execute_result"
    }
   ],
   "source": [
    "movies3"
   ]
  },
  {
   "cell_type": "code",
   "execution_count": 35,
   "id": "7bc74354",
   "metadata": {},
   "outputs": [
    {
     "data": {
      "text/plain": [
       "(array(['action', 'comedy', 'adventure', 'animation', 'drama'],\n",
       "       dtype=object),\n",
       " array(['Buena Vista Studios', 'Sony', 'Universal', 'WB',\n",
       "        'Paramount Pictures', 'Fox'], dtype=object))"
      ]
     },
     "execution_count": 35,
     "metadata": {},
     "output_type": "execute_result"
    }
   ],
   "source": [
    "movies3.Genre.unique(), movies3.Studio.unique()"
   ]
  },
  {
   "cell_type": "code",
   "execution_count": 36,
   "id": "a1d1524b",
   "metadata": {},
   "outputs": [
    {
     "data": {
      "text/plain": [
       "423"
      ]
     },
     "execution_count": 36,
     "metadata": {},
     "output_type": "execute_result"
    }
   ],
   "source": [
    "len(movies3)"
   ]
  },
  {
   "cell_type": "code",
   "execution_count": 45,
   "id": "211a56b4",
   "metadata": {},
   "outputs": [
    {
     "data": {
      "text/plain": [
       "<matplotlib.legend.Legend at 0x7ff67c4232b0>"
      ]
     },
     "execution_count": 45,
     "metadata": {},
     "output_type": "execute_result"
    },
    {
     "data": {
      "image/png": "[encoded data removed]",
      "text/plain": [
       "<Figure size 640x480 with 1 Axes>"
      ]
     },
     "metadata": {},
     "output_type": "display_data"
    }
   ],
   "source": [
    "sns.set(style = 'darkgrid', palette = 'muted', color_codes = True)\n",
    "ax = sns.boxplot(data = movies3, x = 'Genre', y ='Gross % US', orient = 'v',\n",
    "                 color = 'lightgray', showfliers = False)\n",
    "plt.setp(ax.artists, alpha = 0.5)\n",
    "\n",
    "sns.stripplot(x = 'Genre', y ='Gross % US', data = movies3, jitter = True, size = 6, linewidth = 0,\n",
    "             hue = 'Studio')\n",
    "ax.axes.set_title('Domestic Gross % by Genre', fontsize = 30)\n",
    "ax.set_xlabel('Genre', fontsize = 20)\n",
    "ax.set_ylabel('Gross % US', fontsize = 20)\n",
    "\n",
    "ax.legend(bbox_to_anchor = (1.05, 1), loc = 2)"
   ]
  },
  {
   "cell_type": "code",
   "execution_count": null,
   "id": "4f1650ba",
   "metadata": {},
   "outputs": [],
   "source": []
  }
 ],
 "metadata": {
  "kernelspec": {
   "display_name": "Python 3 (ipykernel)",
   "language": "python",
   "name": "python3"
  },
  "language_info": {
   "codemirror_mode": {
    "name": "ipython",
    "version": 3
   },
   "file_extension": ".py",
   "mimetype": "text/x-python",
   "name": "python",
   "nbconvert_exporter": "python",
   "pygments_lexer": "ipython3",
   "version": "3.9.13"
  },
  "toc": {
   "base_numbering": 1,
   "nav_menu": {},
   "number_sections": true,
   "sideBar": true,
   "skip_h1_title": false,
   "title_cell": "Table of Contents",
   "title_sidebar": "Contents",
   "toc_cell": false,
   "toc_position": {},
   "toc_section_display": true,
   "toc_window_display": false
  },
  "varInspector": {
   "cols": {
    "lenName": 16,
    "lenType": 16,
    "lenVar": 40
   },
   "kernels_config": {
    "python": {
     "delete_cmd_postfix": "",
     "delete_cmd_prefix": "del ",
     "library": "var_list.py",
     "varRefreshCmd": "print(var_dic_list())"
    },
    "r": {
     "delete_cmd_postfix": ") ",
     "delete_cmd_prefix": "rm(",
     "library": "var_list.r",
     "varRefreshCmd": "cat(var_dic_list()) "
    }
   },
   "types_to_exclude": [
    "module",
    "function",
    "builtin_function_or_method",
    "instance",
    "_Feature"
   ],
   "window_display": false
  }
 },
 "nbformat": 4,
 "nbformat_minor": 5
}
